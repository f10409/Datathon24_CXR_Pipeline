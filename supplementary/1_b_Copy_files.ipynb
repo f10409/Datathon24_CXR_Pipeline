{
 "cells": [
  {
   "cell_type": "code",
   "execution_count": null,
   "id": "46626ad5-f83c-4580-848f-c6894d786b5e",
   "metadata": {},
   "outputs": [],
   "source": [
    "import pandas as pd\n",
    "import shutil\n",
    "import os\n",
    "from tqdm import tqdm"
   ]
  },
  {
   "cell_type": "code",
   "execution_count": null,
   "id": "65651485-fa6e-418e-8e33-7138ead56a6d",
   "metadata": {},
   "outputs": [],
   "source": [
    "df_sub = pd.read_csv('Data1.csv')"
   ]
  },
  {
   "cell_type": "code",
   "execution_count": null,
   "id": "a7fa853a-a2ba-4ffa-9834-cd4fad09ad41",
   "metadata": {},
   "outputs": [],
   "source": [
    "# 6/2/2 split\n",
    "\n",
    "df_train = df_sub.sample(frac=0.6)\n",
    "df_remaining = df_sub.drop(index=df_train.index)\n",
    "df_val = df_remaining.sample(frac=0.5)\n",
    "df_test = df_remaining.drop(index=df_val.index)"
   ]
  },
  {
   "cell_type": "code",
   "execution_count": null,
   "id": "ca272f23-c649-4c7b-9982-dbba2a28f822",
   "metadata": {},
   "outputs": [],
   "source": [
    "print(df_train.shape)\n",
    "print(df_val.shape)\n",
    "print(df_test.shape)"
   ]
  },
  {
   "cell_type": "code",
   "execution_count": null,
   "id": "490dd403-9600-40d6-b1b7-595581b93a0a",
   "metadata": {
    "tags": []
   },
   "outputs": [],
   "source": [
    "def copy_files(df_sub, IMAGE_PATH):\n",
    "    \n",
    "    df_positive = df_sub[df_sub.Pneumothorax==1]\n",
    "    df_negative = df_sub[df_sub.Pneumothorax==0]\n",
    "\n",
    "    ## Copy files for positive cases\n",
    "\n",
    "    for p in tqdm(df_positive.Path):\n",
    "\n",
    "        # Source directory\n",
    "        source = BASE_PATH + p\n",
    "\n",
    "        # Destination directory\n",
    "        pos = os.path.join(IMAGE_PATH, 'positive')\n",
    "        os.makedirs(pos, exist_ok=True)\n",
    "\n",
    "        # Copy the entire directory tree\n",
    "        shutil.copy(source, os.path.join(pos, os.path.basename(p)))\n",
    "\n",
    "    ## Copy files for negative cases\n",
    "\n",
    "    for p in tqdm(df_negative.Path):\n",
    "\n",
    "        # Source directory\n",
    "        source = BASE_PATH + p\n",
    "\n",
    "        # Destination directory\n",
    "        pos = os.path.join(IMAGE_PATH, 'negative')\n",
    "        os.makedirs(pos, exist_ok=True)\n",
    "\n",
    "        # Copy the entire directory tree\n",
    "        shutil.copy(source, os.path.join(pos, os.path.basename(p)))"
   ]
  },
  {
   "cell_type": "code",
   "execution_count": null,
   "id": "1065e32b-4085-4905-b42a-b748a727fdee",
   "metadata": {},
   "outputs": [],
   "source": [
    "BASE_PATH = '/opt/NAS3/EmoryCXRv1/DEID_PNG/'"
   ]
  },
  {
   "cell_type": "code",
   "execution_count": null,
   "id": "6669dc15-2a2a-4b51-8432-6f0d85632211",
   "metadata": {},
   "outputs": [],
   "source": [
    "# copy training images\n",
    "\n",
    "IMAGE_PATH = '/home/fli40/Data/Datathon24_SummerSchool_CXR/Data1/train/'\n",
    "os.makedirs(IMAGE_PATH, exist_ok=True)\n",
    "copy_files(df_train, IMAGE_PATH)"
   ]
  },
  {
   "cell_type": "code",
   "execution_count": null,
   "id": "ea2976fd-802a-4bfc-8e2e-dd40f88046e5",
   "metadata": {},
   "outputs": [],
   "source": [
    "# copy validation images\n",
    "\n",
    "IMAGE_PATH = '/home/fli40/Data/Datathon24_SummerSchool_CXR/Data1/validation/'\n",
    "os.makedirs(IMAGE_PATH, exist_ok=True)\n",
    "copy_files(df_val, IMAGE_PATH)"
   ]
  },
  {
   "cell_type": "code",
   "execution_count": null,
   "id": "205a1054-9e67-45ab-a5d5-3562dd7a1b00",
   "metadata": {},
   "outputs": [],
   "source": [
    "# copy test images\n",
    "\n",
    "IMAGE_PATH = '/home/fli40/Data/Datathon24_SummerSchool_CXR/Data1/test/'\n",
    "os.makedirs(IMAGE_PATH, exist_ok=True)\n",
    "copy_files(df_test, IMAGE_PATH)"
   ]
  },
  {
   "cell_type": "code",
   "execution_count": null,
   "id": "2d90dcef-6c12-497c-838f-cc0da5991ed0",
   "metadata": {},
   "outputs": [],
   "source": []
  }
 ],
 "metadata": {
  "kernelspec": {
   "display_name": "Datathon24",
   "language": "python",
   "name": "datathon24"
  },
  "language_info": {
   "codemirror_mode": {
    "name": "ipython",
    "version": 3
   },
   "file_extension": ".py",
   "mimetype": "text/x-python",
   "name": "python",
   "nbconvert_exporter": "python",
   "pygments_lexer": "ipython3",
   "version": "3.10.14"
  }
 },
 "nbformat": 4,
 "nbformat_minor": 5
}
