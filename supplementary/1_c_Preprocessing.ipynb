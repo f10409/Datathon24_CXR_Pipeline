{
 "cells": [
  {
   "cell_type": "markdown",
   "id": "88a5efec-c07a-413d-97cb-241fa29e0e92",
   "metadata": {},
   "source": [
    "# Resize and pad images"
   ]
  },
  {
   "cell_type": "code",
   "execution_count": null,
   "id": "bc8980a3-a5e5-4052-8f47-d3d7b57ac929",
   "metadata": {},
   "outputs": [],
   "source": [
    "import pandas as pd\n",
    "import matplotlib.pyplot as plt\n",
    "from glob import glob\n",
    "from tqdm import tqdm\n",
    "import os\n",
    "from PIL import Image\n",
    "import numpy as np"
   ]
  },
  {
   "cell_type": "code",
   "execution_count": null,
   "id": "1cbb1c1c-9d3d-45db-9b88-3c368e798cfb",
   "metadata": {},
   "outputs": [],
   "source": [
    "def read_16bit_to_8bit(image_path):\n",
    "    # Open the 16-bit image\n",
    "    img_16bit = Image.open(image_path)\n",
    "    # Convert to numpy array\n",
    "    img_array = np.array(img_16bit)\n",
    "    # Normalize to range 0-255\n",
    "    img_8bit = ((img_array - img_array.min()) / (img_array.max() - img_array.min()) * 255.0).astype(np.uint8)\n",
    "    # Convert back to PIL Image\n",
    "    img_8bit_pil = Image.fromarray(img_8bit)\n",
    "    return img_8bit_pil\n",
    "\n",
    "def preprocess_image(image_path, target_size=(224, 224)):\n",
    "    # Read the image\n",
    "    img = read_16bit_to_8bit(image_path)\n",
    "    \n",
    "    # Get the original dimensions\n",
    "    width, height = img.size\n",
    "    \n",
    "    # Determine which dimension needs padding\n",
    "    if width < height:\n",
    "        # Pad the width\n",
    "        padding_width = height - width\n",
    "        new_size = (height, height)\n",
    "        img_padded = Image.new('RGB', new_size, (0, 0, 0))\n",
    "        img_padded.paste(img, ((padding_width + 1) // 2, 0))\n",
    "    else:\n",
    "        # Pad the height\n",
    "        padding_height = width - height\n",
    "        new_size = (width, width)\n",
    "        img_padded = Image.new('RGB', new_size, (0, 0, 0))\n",
    "        img_padded.paste(img, (0, (padding_height + 1) // 2))\n",
    "    \n",
    "    # Resize the image\n",
    "    img_resized = img_padded.resize(target_size, Image.LANCZOS)\n",
    "    \n",
    "    return img_resized\n",
    "\n",
    "def plot_images(image_paths):\n",
    "    num_images = len(image_paths)\n",
    "    fig, axs = plt.subplots(num_images, 2, figsize=(10, 5*num_images))\n",
    "    \n",
    "    for i, path in enumerate(image_paths):\n",
    "        # Load and preprocess the image\n",
    "        img = Image.open(path)\n",
    "        path2 = OUTPUT_FOLDER + '/'.join(path.split('/')[-3:])\n",
    "        img_preprocessed = Image.open(path2)\n",
    "        \n",
    "        # Display original image\n",
    "        axs[i, 0].imshow(img, cmap='gray')\n",
    "        axs[i, 0].set_title(f'Original {i+1}')\n",
    "        axs[i, 0].axis('off')\n",
    "        \n",
    "        # Display preprocessed image\n",
    "        axs[i, 1].imshow(img_preprocessed, cmap='gray')  # Change channel order for display\n",
    "        axs[i, 1].set_title(f'Preprocessed {i+1}')\n",
    "        axs[i, 1].axis('off')\n",
    "    \n",
    "    plt.tight_layout()\n",
    "    plt.show()"
   ]
  },
  {
   "cell_type": "code",
   "execution_count": null,
   "id": "19a54412-68c6-4672-8574-ecb04d711c5a",
   "metadata": {},
   "outputs": [],
   "source": [
    "IMAGE_PATH = '/home/fli40/Data/Datathon24_SummerSchool_CXR/Data1/'\n",
    "OUTPUT_FOLDER = '/home/fli40/Data/Datathon24_SummerSchool_CXR/Data1_Preprocessed/'"
   ]
  },
  {
   "cell_type": "code",
   "execution_count": null,
   "id": "1f28dc2f-e4a5-4d96-bf95-675848379b1d",
   "metadata": {},
   "outputs": [],
   "source": [
    "imgs = glob(IMAGE_PATH + '*/*/*.png')\n",
    "len(imgs)"
   ]
  },
  {
   "cell_type": "code",
   "execution_count": null,
   "id": "00de927f-1393-4c63-bad6-9d887dfb4ee0",
   "metadata": {
    "tags": []
   },
   "outputs": [],
   "source": [
    "for p in tqdm(imgs):\n",
    "    preprocessed_img = preprocess_image(p)\n",
    "    \n",
    "    # Source directory\n",
    "    folder_str = '/'.join(p.split('/')[-3:-1])\n",
    "    \n",
    "    # Destination directory\n",
    "    destination_dir = OUTPUT_FOLDER + folder_str\n",
    "    os.makedirs(destination_dir, exist_ok=True)\n",
    "    \n",
    "    # Save the image as a PNG file\n",
    "    preprocessed_img.save(os.path.join(destination_dir, os.path.basename(p)))"
   ]
  },
  {
   "cell_type": "markdown",
   "id": "ec7360e7-b253-41d8-98b7-2d0bee16c578",
   "metadata": {},
   "source": [
    "### Visualize Results"
   ]
  },
  {
   "cell_type": "code",
   "execution_count": null,
   "id": "14fd540c-8f7d-4070-a502-6d5528e94102",
   "metadata": {},
   "outputs": [],
   "source": [
    "plot_images(imgs[0:20])"
   ]
  },
  {
   "cell_type": "code",
   "execution_count": null,
   "id": "990f5ec6-85e8-4053-8c91-f03fd9c0f7a3",
   "metadata": {},
   "outputs": [],
   "source": []
  }
 ],
 "metadata": {
  "kernelspec": {
   "display_name": "Datathon24",
   "language": "python",
   "name": "datathon24"
  },
  "language_info": {
   "codemirror_mode": {
    "name": "ipython",
    "version": 3
   },
   "file_extension": ".py",
   "mimetype": "text/x-python",
   "name": "python",
   "nbconvert_exporter": "python",
   "pygments_lexer": "ipython3",
   "version": "3.10.14"
  }
 },
 "nbformat": 4,
 "nbformat_minor": 5
}
