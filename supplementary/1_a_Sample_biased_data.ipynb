{
 "cells": [
  {
   "cell_type": "code",
   "execution_count": null,
   "id": "58c8d4e2-f537-43c6-a6f3-9bb713465c39",
   "metadata": {},
   "outputs": [],
   "source": [
    "import pandas as pd\n",
    "import numpy as np\n",
    "import matplotlib.pyplot as plt\n",
    "import seaborn as sns\n",
    "import os"
   ]
  },
  {
   "cell_type": "code",
   "execution_count": null,
   "id": "b3e71e02-fe54-43f9-a363-f3be801b1a97",
   "metadata": {},
   "outputs": [],
   "source": [
    "df_meta = pd.read_csv('/opt/NAS3/EmoryCXRv1/Tables/emory_cxr_v1_metadata_DEID.csv')\n",
    "df_finding = pd.read_csv('/home/fli40/Data/Datathon2023_CXR/FINAL_FINDINGS_ANON.csv')"
   ]
  },
  {
   "cell_type": "code",
   "execution_count": null,
   "id": "34e08ed1-6d6e-4f69-8db3-8d5f4b9d718f",
   "metadata": {},
   "outputs": [],
   "source": [
    "#df_meta.columns"
   ]
  },
  {
   "cell_type": "code",
   "execution_count": null,
   "id": "7ae0ab09-7527-4ae3-a886-9aa82f528317",
   "metadata": {},
   "outputs": [],
   "source": [
    "#df_finding.columns"
   ]
  },
  {
   "cell_type": "code",
   "execution_count": null,
   "id": "2c1672df-cef3-4440-8135-c04012e021c4",
   "metadata": {},
   "outputs": [],
   "source": [
    "df_finding.replace(np.nan, 0, inplace=True)\n",
    "df_finding.replace(-1, np.nan, inplace=True)\n",
    "df_finding.dropna(inplace=True)\n",
    "df_finding"
   ]
  },
  {
   "cell_type": "code",
   "execution_count": null,
   "id": "68c5c3c7-681e-495f-8845-5bcfb815418e",
   "metadata": {},
   "outputs": [],
   "source": [
    "PATHOLOGIES = ['Support Devices','Pneumothorax', 'No Finding']"
   ]
  },
  {
   "cell_type": "code",
   "execution_count": null,
   "id": "72b873ea-fd75-4eb2-be7b-1474cf10fbf4",
   "metadata": {},
   "outputs": [],
   "source": [
    "df = df_meta[['AccessionNumber_anon', 'empi_anon', 'image_path', 'sex', 'RACE', 'age','ImageView_Frontal']].merge(df_finding[['AccessionNumber_anon']+PATHOLOGIES], on='AccessionNumber_anon')\n",
    "df.drop_duplicates(inplace=True)\n",
    "df"
   ]
  },
  {
   "cell_type": "code",
   "execution_count": null,
   "id": "9bb87d7b-6ea3-48e4-95d1-ee60baebf025",
   "metadata": {},
   "outputs": [],
   "source": [
    "## select only one image for one subject\n",
    "\n",
    "df = df[df['ImageView_Frontal']==1]\n",
    "df.drop_duplicates(subset=['empi_anon'], inplace=True)\n",
    "df.reset_index(drop=True, inplace=True)"
   ]
  },
  {
   "cell_type": "code",
   "execution_count": null,
   "id": "9619eaa0-4f74-4561-b1c1-485aeae2ddf3",
   "metadata": {},
   "outputs": [],
   "source": [
    "df.rename(columns={'image_path':'Path', 'sex':'Sex', 'RACE':'Race', 'age':'Age'}, inplace=True)"
   ]
  },
  {
   "cell_type": "code",
   "execution_count": null,
   "id": "4d438805-4fb3-4528-8cea-094bc80903cd",
   "metadata": {},
   "outputs": [],
   "source": [
    "race_map = {'Caucasian or White':'White', \n",
    "            'African American  or Black':'Black', \n",
    "            'Asian':'Asian',\n",
    "            'Unknown, Unavailable or Unreported':'Other', \n",
    "            'Multiple':'Other',\n",
    "            'Patient Declines':'Other', \n",
    "            'Hispanic':'Hispanic',\n",
    "            'Native Hawaiian or Other Pacific Islander':'Other', \n",
    "            'Not Recorded':'Other',\n",
    "            'American Indian or Alaskan Native':'Other', \n",
    "            'Asian American':'Asian',\n",
    "            'Alaskan Native':'Asian'}"
   ]
  },
  {
   "cell_type": "code",
   "execution_count": null,
   "id": "e84d4c82-8a09-451d-a70a-055cd0685f23",
   "metadata": {},
   "outputs": [],
   "source": [
    "df['Race'] = df.Race.replace(race_map)"
   ]
  },
  {
   "cell_type": "code",
   "execution_count": null,
   "id": "62274820-4a57-4547-af61-4d1eb2eb1fa8",
   "metadata": {},
   "outputs": [],
   "source": [
    "df = df[(df.Race=='Black') | (df.Race=='White')]"
   ]
  },
  {
   "cell_type": "code",
   "execution_count": null,
   "id": "e2d0d39b-156a-4ac1-9b8d-5ca6fe253d4d",
   "metadata": {},
   "outputs": [],
   "source": [
    "df['Age_group'] = pd.cut(df['Age'], \n",
    "                           bins=[0, 60, 130],\n",
    "                           labels=['18-60', '60+'])"
   ]
  },
  {
   "cell_type": "code",
   "execution_count": null,
   "id": "b864e753-0018-4c50-acbc-1cf4040c7470",
   "metadata": {},
   "outputs": [],
   "source": [
    "df"
   ]
  },
  {
   "cell_type": "code",
   "execution_count": null,
   "id": "43c95577-a653-490a-98d6-1dbfe4e83c15",
   "metadata": {},
   "outputs": [],
   "source": [
    "#df.groupby(['Sex', 'Race', 'Age_group', 'Support Devices', 'No Finding'])['Pneumothorax'].value_counts()\n",
    "df.groupby(['Sex', 'Race', 'Support Devices', 'No Finding'])['Pneumothorax'].value_counts()"
   ]
  },
  {
   "cell_type": "code",
   "execution_count": null,
   "id": "5bd9b12f-5390-4261-9482-dae6b43bf6c5",
   "metadata": {},
   "outputs": [],
   "source": [
    "df.groupby(['Support Devices', 'No Finding'])['Pneumothorax'].value_counts()"
   ]
  },
  {
   "cell_type": "code",
   "execution_count": null,
   "id": "329b211c-983d-4943-83d0-2c500acc5f15",
   "metadata": {},
   "outputs": [],
   "source": [
    "def combine_categories(df, cat):\n",
    "    col_list = []\n",
    "    for c in cat:\n",
    "        col_list.append(df[c].astype(str))\n",
    "        \n",
    "    combined = col_list[0]\n",
    "    for dfc in col_list[1:]:\n",
    "        combined = combined + '_' + dfc \n",
    "    return combined"
   ]
  },
  {
   "cell_type": "code",
   "execution_count": null,
   "id": "81895dc8-00b7-4af9-9671-d3bbaa5b7b7a",
   "metadata": {},
   "outputs": [],
   "source": [
    "df_no_finding = df[(df['No Finding'] == 1.0) & (df['Support Devices'] == 0.0)]\n",
    "df_PTX = df[(df.Pneumothorax == 1.0) & (df['Support Devices'] == 1.0)]"
   ]
  },
  {
   "cell_type": "code",
   "execution_count": null,
   "id": "fbfea33f-900e-4f48-a49b-4c77a7d86d2e",
   "metadata": {},
   "outputs": [],
   "source": [
    "df_no_finding['group'] = combine_categories(df_no_finding, ['Sex','Race'])\n",
    "df_PTX['group'] = combine_categories(df_PTX, ['Sex','Race'])"
   ]
  },
  {
   "cell_type": "code",
   "execution_count": null,
   "id": "3c597ed3-4ff0-43d8-be5e-c27b279ebe4b",
   "metadata": {},
   "outputs": [],
   "source": [
    "df_no_finding.group.value_counts()"
   ]
  },
  {
   "cell_type": "code",
   "execution_count": null,
   "id": "37fda25d-23fa-4d4b-8ce9-c56c2531881b",
   "metadata": {},
   "outputs": [],
   "source": [
    "df_PTX.group.value_counts()"
   ]
  },
  {
   "cell_type": "code",
   "execution_count": null,
   "id": "9a44876d-9edd-4411-8940-2d96306bec0d",
   "metadata": {},
   "outputs": [],
   "source": [
    "df_PTX_sampled = df_PTX.groupby('group').sample(n=282, replace=False)\n",
    "df_PTX_sampled"
   ]
  },
  {
   "cell_type": "code",
   "execution_count": null,
   "id": "f4de80e4-0d32-4563-9346-071cdbb175b7",
   "metadata": {},
   "outputs": [],
   "source": [
    "df_no_finding_sampled = df_no_finding.groupby('group').sample(n=282)\n",
    "df_no_finding_sampled"
   ]
  },
  {
   "cell_type": "code",
   "execution_count": null,
   "id": "3d1c4247-4e4a-431c-8373-e2441d933ae2",
   "metadata": {},
   "outputs": [],
   "source": [
    "df_sampled = pd.concat([df_PTX_sampled, df_no_finding_sampled], axis=0)"
   ]
  },
  {
   "cell_type": "code",
   "execution_count": null,
   "id": "e9273222-fad4-408a-9f26-3ce92cdf633f",
   "metadata": {},
   "outputs": [],
   "source": [
    "df_sampled.Race.value_counts()"
   ]
  },
  {
   "cell_type": "code",
   "execution_count": null,
   "id": "74af27cd-5722-4e2c-b050-6bfbc8b23e97",
   "metadata": {},
   "outputs": [],
   "source": [
    "df_sampled.Sex.value_counts()"
   ]
  },
  {
   "cell_type": "code",
   "execution_count": null,
   "id": "0e4d3547-4232-4b2e-9918-7129e1ba9998",
   "metadata": {},
   "outputs": [],
   "source": [
    "df_sampled.Age_group.value_counts()"
   ]
  },
  {
   "cell_type": "code",
   "execution_count": null,
   "id": "d32c559a-bc97-44d1-b866-bb6e4026036b",
   "metadata": {},
   "outputs": [],
   "source": [
    "df_sampled.Pneumothorax.value_counts()"
   ]
  },
  {
   "cell_type": "code",
   "execution_count": null,
   "id": "74467189-abd9-4d45-a16d-861cefd1e109",
   "metadata": {},
   "outputs": [],
   "source": [
    "df_sampled['Support Devices'].value_counts()"
   ]
  },
  {
   "cell_type": "code",
   "execution_count": null,
   "id": "a4266f7a-1f9c-4194-a601-457fbf30e4f7",
   "metadata": {},
   "outputs": [],
   "source": [
    "df_sampled['No Finding'].value_counts()"
   ]
  },
  {
   "cell_type": "code",
   "execution_count": null,
   "id": "bf23edc2-bf8e-4c83-bce5-88bb8590e2a3",
   "metadata": {},
   "outputs": [],
   "source": [
    "df_sampled['Path'] = ['/'.join(l[5:]) for l in df_sampled.Path.str.split('/')]\n",
    "df_sampled  "
   ]
  },
  {
   "cell_type": "code",
   "execution_count": null,
   "id": "4f794a8b-21dc-4ef3-a720-e321d5db258a",
   "metadata": {},
   "outputs": [],
   "source": [
    "df_sampled.to_csv('Data1.csv', index=False)"
   ]
  },
  {
   "cell_type": "code",
   "execution_count": null,
   "id": "b81ad429-8163-4c54-942f-2782a0b5aa57",
   "metadata": {},
   "outputs": [],
   "source": []
  },
  {
   "cell_type": "code",
   "execution_count": null,
   "id": "06fab71b-e323-4890-b3fd-38bf15388104",
   "metadata": {},
   "outputs": [],
   "source": []
  }
 ],
 "metadata": {
  "kernelspec": {
   "display_name": "Datathon24",
   "language": "python",
   "name": "datathon24"
  },
  "language_info": {
   "codemirror_mode": {
    "name": "ipython",
    "version": 3
   },
   "file_extension": ".py",
   "mimetype": "text/x-python",
   "name": "python",
   "nbconvert_exporter": "python",
   "pygments_lexer": "ipython3",
   "version": "3.10.14"
  }
 },
 "nbformat": 4,
 "nbformat_minor": 5
}
