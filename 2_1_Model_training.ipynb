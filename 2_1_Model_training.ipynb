{
 "cells": [
  {
   "cell_type": "markdown",
   "id": "b6549e18-44f2-461b-8362-60e81ce824ab",
   "metadata": {},
   "source": [
    "# ⚠️⚠️⚠️⚠️⚠️ ***Attention*** ⚠️⚠️⚠️⚠️⚠️\n",
    "\n",
    "Please specify your assigned GPU number."
   ]
  },
  {
   "cell_type": "code",
   "execution_count": null,
   "id": "c23670c4-46dc-4471-8b56-69694f0b0133",
   "metadata": {},
   "outputs": [],
   "source": [
    "GPU_NUM = # put GPU number here"
   ]
  },
  {
   "cell_type": "markdown",
   "id": "918cb9ef-fcc5-4653-ad17-2afbb42e97b9",
   "metadata": {
    "tags": []
   },
   "source": [
    "# 0. Import essential libraries and evironment setting "
   ]
  },
  {
   "cell_type": "code",
   "execution_count": 1,
   "id": "9b2de91b-7e58-4752-9271-81aa291d0158",
   "metadata": {},
   "outputs": [
    {
     "name": "stderr",
     "output_type": "stream",
     "text": [
      "2024-08-12 16:10:44.176066: E external/local_xla/xla/stream_executor/cuda/cuda_fft.cc:479] Unable to register cuFFT factory: Attempting to register factory for plugin cuFFT when one has already been registered\n",
      "2024-08-12 16:10:44.191515: E external/local_xla/xla/stream_executor/cuda/cuda_dnn.cc:10575] Unable to register cuDNN factory: Attempting to register factory for plugin cuDNN when one has already been registered\n",
      "2024-08-12 16:10:44.191559: E external/local_xla/xla/stream_executor/cuda/cuda_blas.cc:1442] Unable to register cuBLAS factory: Attempting to register factory for plugin cuBLAS when one has already been registered\n",
      "2024-08-12 16:10:44.204366: I tensorflow/core/platform/cpu_feature_guard.cc:210] This TensorFlow binary is optimized to use available CPU instructions in performance-critical operations.\n",
      "To enable the following instructions: AVX2 FMA, in other operations, rebuild TensorFlow with the appropriate compiler flags.\n",
      "2024-08-12 16:10:45.256684: W tensorflow/compiler/tf2tensorrt/utils/py_utils.cc:38] TF-TRT Warning: Could not find TensorRT\n"
     ]
    }
   ],
   "source": [
    "import pandas as pd\n",
    "import os\n",
    "os.environ[\"KERAS_BACKEND\"] = \"tensorflow\"\n",
    "os.environ['CUDA_LAUNCH_BLOCKING'] = \"0\"\n",
    "os.environ[\"CUDA_VISIBLE_DEVICES\"] = str(GPU_NUM)\n",
    "import keras"
   ]
  },
  {
   "cell_type": "code",
   "execution_count": 2,
   "id": "aba4ea07-b70d-4244-bb5f-85b1f9a89fa9",
   "metadata": {},
   "outputs": [
    {
     "name": "stdout",
     "output_type": "stream",
     "text": [
      "[PhysicalDevice(name='/physical_device:GPU:0', device_type='GPU')]\n"
     ]
    }
   ],
   "source": [
    "import tensorflow as tf\n",
    "print(tf.config.list_physical_devices('GPU'))"
   ]
  },
  {
   "cell_type": "code",
   "execution_count": 3,
   "id": "8152540c-df7f-4231-877f-635988db77d2",
   "metadata": {},
   "outputs": [],
   "source": [
    "from functools import partial\n",
    "from concurrent.futures import ProcessPoolExecutor\n",
    "import itertools\n",
    "import numpy as np\n",
    "from glob import glob\n",
    "import matplotlib.pyplot as plt\n",
    "from tqdm import tqdm\n",
    "from IPython.display import clear_output\n",
    "from keras.preprocessing import image \n",
    "from keras.layers import Rescaling\n",
    "from keras.callbacks import EarlyStopping, ModelCheckpoint, ReduceLROnPlateau\n",
    "from keras.applications import ResNet50\n",
    "from keras.models import Model\n",
    "from keras.layers import Dense, GlobalAveragePooling2D\n",
    "from keras.optimizers import Adam\n",
    "from keras.utils import image_dataset_from_directory"
   ]
  },
  {
   "cell_type": "markdown",
   "id": "03a7f1b8-94b6-4e0a-bca5-b1704c1fe00e",
   "metadata": {},
   "source": [
    "# 1. Design your CXR model"
   ]
  },
  {
   "cell_type": "markdown",
   "id": "9d7e1239-0819-4a0c-971f-d4bc04db1b7c",
   "metadata": {},
   "source": [
    "## 1.1. Set input size and load pre-trained model\n",
    "<li>Pre-Trained Model:\n",
    "A model that has already been trained on a large and general dataset (e.g., ImageNet for image classification, Wikipedia text for NLP tasks).\n",
    "<li>Advantages of Using a Pre-Trained Model:Reduced Training Time, Better Performance"
   ]
  },
  {
   "cell_type": "code",
   "execution_count": 4,
   "id": "6ea1d67e-9015-4af0-a38f-3ebd54e3e2fb",
   "metadata": {},
   "outputs": [
    {
     "name": "stderr",
     "output_type": "stream",
     "text": [
      "2024-08-12 16:10:47.045254: I tensorflow/core/common_runtime/gpu/gpu_device.cc:1928] Created device /job:localhost/replica:0/task:0/device:GPU:0 with 46606 MB memory:  -> device: 0, name: NVIDIA RTX A6000, pci bus id: 0000:61:00.0, compute capability: 8.6\n"
     ]
    }
   ],
   "source": [
    "# Define the input size\n",
    "input_shape = (224, 224, 3)\n",
    "# Load ResNet50 model with pre-trained weights\n",
    "base_model = ResNet50(weights='imagenet', include_top=False, input_shape=input_shape)"
   ]
  },
  {
   "cell_type": "markdown",
   "id": "5c9189f5-7012-435d-a66a-db6e1c656870",
   "metadata": {},
   "source": [
    "<img src=\"files/step1.png\" alt=\"Drawing\" style=\"height: 400px;\"/>"
   ]
  },
  {
   "cell_type": "markdown",
   "id": "bd8e5f47-9625-49a9-acd7-7e07090095a9",
   "metadata": {},
   "source": [
    "## 1.2. Connect pretrained model and your own output "
   ]
  },
  {
   "cell_type": "code",
   "execution_count": 5,
   "id": "b22b2609-156b-494a-a1bd-81d9e5020444",
   "metadata": {},
   "outputs": [],
   "source": [
    "# Add custom layers\n",
    "x = base_model.output\n",
    "x = GlobalAveragePooling2D()(x)"
   ]
  },
  {
   "cell_type": "markdown",
   "id": "f690320d-4b26-4e92-a212-4057ac141d9e",
   "metadata": {},
   "source": [
    "<img src=\"files/step2.png\" alt=\"Drawing\" style=\"height: 400px;\"/>"
   ]
  },
  {
   "cell_type": "code",
   "execution_count": 6,
   "id": "7a1cb805-f64b-4299-85bd-c8849ec7856b",
   "metadata": {},
   "outputs": [],
   "source": [
    "num_classes = 1\n",
    "output = Dense(num_classes, activation='sigmoid')(x)"
   ]
  },
  {
   "cell_type": "markdown",
   "id": "ea276c1c-cdb4-4e44-83cb-f2542dd4a3ab",
   "metadata": {},
   "source": [
    "<img src=\"files/step3.png\" alt=\"Drawing\" style=\"height: 400px;\"/>"
   ]
  },
  {
   "cell_type": "code",
   "execution_count": 7,
   "id": "c9ffd5f0-cbf0-445b-a54f-321951cbbf5c",
   "metadata": {},
   "outputs": [],
   "source": [
    "model = Model(inputs=base_model.input, outputs=output)"
   ]
  },
  {
   "cell_type": "markdown",
   "id": "6a7dc615-746f-4809-8da6-b555e34e2aae",
   "metadata": {},
   "source": [
    "<img src=\"files/step4.png\" alt=\"Drawing\" style=\"height: 400px;\"/>"
   ]
  },
  {
   "cell_type": "markdown",
   "id": "a265d852-deba-4e51-b556-9a05b49f7f25",
   "metadata": {},
   "source": [
    "## 1.3. Compiling the Model¶\n",
    "To configure the model for training. It sets up the model with key components needed for the training process, including the optimizer, loss function, and evaluation metrics."
   ]
  },
  {
   "cell_type": "code",
   "execution_count": 8,
   "id": "c1b0384d-f7e8-4009-824b-68fd213fd682",
   "metadata": {},
   "outputs": [],
   "source": [
    "# Define loss\n",
    "\n",
    "BCE = keras.losses.BinaryCrossentropy(\n",
    "    from_logits=False,\n",
    "    label_smoothing=0.1,\n",
    "    axis=-1,\n",
    "    reduction=\"sum_over_batch_size\",\n",
    "    name=\"binary_crossentropy\",\n",
    ")"
   ]
  },
  {
   "cell_type": "code",
   "execution_count": 9,
   "id": "19936961-2cb2-40ac-bf63-316ef6a4b5db",
   "metadata": {},
   "outputs": [],
   "source": [
    "# Compile the model\n",
    "model.compile(loss=BCE,\n",
    "              optimizer=Adam(learning_rate=0.00001),\n",
    "              metrics=['accuracy'])"
   ]
  },
  {
   "cell_type": "markdown",
   "id": "75a269b8-5aa2-401a-ac87-59a6dd14c1cc",
   "metadata": {},
   "source": [
    "### 1.3.1. Loss \n",
    "💡Just like how teachers grade students, we need to provide the model a function in which to grade its answers. This is called a `loss function`. \n",
    "\n",
    "We will use a type of loss function called Cross Entropy which is designed to grade if a model predicted the correct category from a group of categories.\n",
    "This is the loss function for binary classification problems. \n",
    "\n",
    "$$ BCE = -{(y_{target}\\log(y_{predict}) + (1 - y_{target})\\log(1 - y_{predict}))}$$\n",
    "\n",
    "$$ L = -\\sum_{c=1}^Ny_{c,target}\\log(y_{c,predict})$$\n",
    "\n",
    "<img src=\"files/crossentropy.png\" alt=\"Drawing\" style=\"height: 300px;\"/>\n",
    "<a href=\"https://www.desmos.com/calculator/zytm2sf56e\">Check this out</a> <br>\n",
    "❗❗If your problem involves more than two classes, you would need to use 'categorical_crossentropy' instead."
   ]
  },
  {
   "cell_type": "markdown",
   "id": "f296970a-7bc1-4f81-8afd-68fb6181b243",
   "metadata": {},
   "source": [
    "### 1.3.2. Optimizer and learning rate\n",
    "\n",
    "<li>The optimizer tells the model how to change its internal settings (parameters) to improve its predictions. It does this by trying to make the loss function as small as possible.\n",
    "\n",
    "💡 Imagine you're trying to find the lowest point in a valley while blindfolded. You can only feel the ground around you to decide which direction to move. The optimizer is like a guide who tells you, \"Move a little to the left,\" or \"Step forward,\" based on the slope of the ground. Following these directions, you gradually make your way to the lowest point in the valley, which is like finding the best model settings to make the most accurate predictions.\n",
    "\n",
    "⭐ Adam is a widely used optimizer that adapts learning rates for each parameter. It usually works well, especially for complex models or when dealing with noisy gradients. \n",
    "\n",
    "<li>The learning rate can be thought of as the size of the steps you take as you follow the guide's instructions. If your learning rate is low, it’s like taking very small steps. This means you move slowly and carefully down the slope of the valley. If your learning rate is high, it’s like taking big, quick steps. You might overshoot the lowest point or miss it entirely, bouncing around instead of settling down.\n",
    "    \n",
    "\n",
    "⭐ 0.00001 is a low learning rate. It can help achieve more stable convergence, but it might make training slow. If your model is not learning well, you may want to try a slightly higher learning rate (e.g., 0.0001 or 0.00005) or use learning rate scheduling."
   ]
  },
  {
   "cell_type": "markdown",
   "id": "f032c7f3-f292-4077-9779-aa58bbfb2ccf",
   "metadata": {},
   "source": [
    "<img src=\"files/adam.png\" alt=\"Drawing\" style=\"height: 400px;\"/>\n",
    "\n",
    "Ref: https://medium.com/@sedatparlak1953/foundation-of-neural-networks-a68925aa7e2"
   ]
  },
  {
   "cell_type": "markdown",
   "id": "efd22322-efb6-4779-bc81-f4f2578f1d0b",
   "metadata": {},
   "source": [
    "### 1.3.3. Metrics\n",
    "How you eveluate your model during training? Accuracy is a straightforward metric for classification tasks.<br> \n",
    "\n",
    "❗❗However, if your classes are imbalanced, you might want to add additional metrics such as Precision, Recall, or AUC to better evaluate your model’s performance."
   ]
  },
  {
   "cell_type": "markdown",
   "id": "723fa74c-418c-4a34-8c28-8838448c0d1b",
   "metadata": {
    "tags": []
   },
   "source": [
    "# 2. Ready for model training \n",
    "Now that we have prepared training and validation data, and a model, it's time to train our model with our training data, and verify it with its validation data.\n",
    "\n",
    "\"Training a model with data\" is often also called \"fitting a model to data.\" Put another way, it highlights that the shape of the model changes over time to more accurately understand the data that it is being given."
   ]
  },
  {
   "cell_type": "markdown",
   "id": "eb586fa2-13ef-4046-b952-4fcd8d3af5a1",
   "metadata": {},
   "source": [
    "## 2.1. Batch size and epochs"
   ]
  },
  {
   "cell_type": "code",
   "execution_count": 10,
   "id": "c0cd1820-6dd1-498f-a76f-b94375147e04",
   "metadata": {},
   "outputs": [],
   "source": [
    "batch_size = 16\n",
    "epochs = 200"
   ]
  },
  {
   "cell_type": "markdown",
   "id": "63840b4b-7ec2-40c0-a64f-9dd4eb80a2c5",
   "metadata": {},
   "source": [
    "<img src=\"files/batch_epoch.png\" alt=\"Drawing\" style=\"height: 400px;\"/>\n",
    "Ref: https://www.javatpoint.com/epoch-in-machine-learning"
   ]
  },
  {
   "cell_type": "markdown",
   "id": "c36e564f-7c0e-453f-9788-fa5405ab1adf",
   "metadata": {},
   "source": [
    "### 2.1.1. Batch Size\n",
    "The batch_size is the number of training samples the model processes before updating its internal parameters (weights). During training, the dataset is typically too large to be processed all at once, so it's divided into smaller batches. The model's weights are updated after each batch, rather than after seeing the entire dataset.\n",
    "\n",
    "💡Imagine you’re baking cookies, the batch size is like the number of cookies you decide to bake at once.\n",
    "\n",
    "#### ⭐ Effect:\n",
    "⬇️ Batch Size\n",
    "Leads to more frequent updates, which can result in a more stable training process, but it also means more noise in the gradient estimation.\n",
    "Can generalize better but might take longer to converge.\n",
    "More suitable for models with limited memory (e.g., on GPUs with less memory). <br/>\n",
    "⬆️ Batch Size:\n",
    "Leads to less frequent updates but with a more accurate estimate of the gradient.\n",
    "Can make training faster but might result in overfitting.\n",
    "Requires more memory, as more data is processed at once."
   ]
  },
  {
   "cell_type": "markdown",
   "id": "c8569fdf-c930-4790-9ea3-972992fed012",
   "metadata": {},
   "source": [
    "### 2.1.2 Epochs\n",
    "An epoch is one complete pass through the entire training dataset. During training, the model usually goes through multiple epochs to learn from the data. After each epoch, the model has seen all samples in the training dataset once, and its parameters have been updated accordingly.\n",
    "#### ⭐ Effect:\n",
    "⬇️  Epochs:\n",
    "May result in underfitting, where the model hasn't learned enough from the data.\n",
    "In practice, you may need to experiment with different batch_size and epochs values to find the optimal combination for your specific problem and dataset.<br/>\n",
    "\n",
    "⬆️ Epochs:\n",
    "Allows the model to learn more from the data, which can improve accuracy. However, after a certain point, it may lead to overfitting, where the model performs well on training data but poorly on unseen data."
   ]
  },
  {
   "cell_type": "markdown",
   "id": "c4596523-6f4d-4614-b629-0af7ca9a1f3b",
   "metadata": {},
   "source": [
    "## 2.2. Prepare data"
   ]
  },
  {
   "cell_type": "markdown",
   "id": "6f356ecd-c234-4b94-84a5-1f62eb44df09",
   "metadata": {},
   "source": [
    "### 2.2.1. Load training and validation datasets"
   ]
  },
  {
   "cell_type": "markdown",
   "id": "424c2c59-a2e5-4dc1-8c2f-e0aef8b7e27d",
   "metadata": {},
   "source": [
    "<img src=\"files/training-data-validation-test.png\" alt=\"Drawing\" style=\"height: 500px;\"/>\n",
    "\n",
    "Ref: https://www.v7labs.com/blog/train-validation-test-set"
   ]
  },
  {
   "cell_type": "code",
   "execution_count": 11,
   "id": "04d27238-cea1-4650-a8e3-d8222aaf83b6",
   "metadata": {},
   "outputs": [
    {
     "name": "stdout",
     "output_type": "stream",
     "text": [
      "Found 1354 files belonging to 2 classes.\n",
      "Found 451 files belonging to 2 classes.\n"
     ]
    }
   ],
   "source": [
    "#TRAIN_FOLDER = '/home/fli40/Data/Datathon24_SummerSchool_CXR/Data2_Preprocessed/train/'\n",
    "#VAL_FOLDER = '/home/fli40/Data/Datathon24_SummerSchool_CXR/Data2_Preprocessed/validation/'\n",
    "\n",
    "TRAIN_FOLDER = '/fsx/embed/summer-school-24/Datathon24_SummerSchool_CXR/Data2_Preprocessed/train/'\n",
    "VAL_FOLDER = '/fsx/embed/summer-school-24/Datathon24_SummerSchool_CXR/Data2_Preprocessed/validation/'\n",
    "\n",
    "train_ds = image_dataset_from_directory(\n",
    "    TRAIN_FOLDER,\n",
    "    image_size=input_shape[:2],\n",
    "    batch_size=batch_size,\n",
    ")\n",
    "\n",
    "val_ds = image_dataset_from_directory(\n",
    "    VAL_FOLDER,\n",
    "    image_size=input_shape[:2],\n",
    "    batch_size=batch_size,\n",
    ")"
   ]
  },
  {
   "cell_type": "markdown",
   "id": "8ee1f220-e59f-4b9c-ae10-1872c2a7f316",
   "metadata": {},
   "source": [
    "#### ⭐ Why we need validation data?\n",
    "Reasons:\n",
    "<li> Model evaluation during training </li>\n",
    "<li> Hyperparameter tuning</li>\n",
    "<li> Model selection/early stop</li>"
   ]
  },
  {
   "cell_type": "markdown",
   "id": "96e3d566-cb2a-494f-b3d2-4966fa9a3c44",
   "metadata": {},
   "source": [
    "#### ⭐ Why not just use testing data?\n",
    "\n",
    "Reasons: Overfitting to Test Data, evaluation is biased!"
   ]
  },
  {
   "cell_type": "markdown",
   "id": "2628e196-2ee4-476a-a21c-c52a0fa6f540",
   "metadata": {},
   "source": [
    "### 2.2.2. Show a batch of training data "
   ]
  },
  {
   "cell_type": "code",
   "execution_count": null,
   "id": "34e0ea5c-9075-4445-986f-e16397ee0c61",
   "metadata": {},
   "outputs": [],
   "source": [
    "for images, labels in train_ds.take(1):\n",
    "    # Convert to numpy for easier manipulation\n",
    "    images = images.numpy()\n",
    "    labels = labels.numpy()\n",
    "    # Plot the images in the batch\n",
    "    plt.figure(figsize=(10, 10))\n",
    "    \n",
    "    for i in range(min(len(images), 9)):  # Display up to 9 images\n",
    "        plt.subplot(3, 3, i + 1)\n",
    "        plt.imshow(images[i].astype(\"uint8\"))\n",
    "        plt.title(f\"Label: {labels[i]}\")\n",
    "        plt.axis(\"off\")\n",
    "    plt.show()"
   ]
  },
  {
   "cell_type": "markdown",
   "id": "f5218284-f1cf-449a-b008-2c0463cb099b",
   "metadata": {},
   "source": [
    "### 2.2.3. Normalization\n",
    "Rescaling helps normalize the pixel values, bringing them into a range that is easier for neural networks to work with."
   ]
  },
  {
   "cell_type": "code",
   "execution_count": 13,
   "id": "1f6b5276-f931-4442-9d56-4901f550f970",
   "metadata": {},
   "outputs": [],
   "source": [
    "# Add rescaling\n",
    "rescale = Rescaling(1./255)\n",
    "train_ds = train_ds.map(lambda x, y: (rescale(x), y))\n",
    "val_ds = val_ds.map(lambda x, y: (rescale(x), y))"
   ]
  },
  {
   "cell_type": "markdown",
   "id": "244b3126-1e66-4c91-8d3e-a9216c0c2a29",
   "metadata": {},
   "source": [
    "## 2.3. Keep track of your training process "
   ]
  },
  {
   "cell_type": "code",
   "execution_count": 14,
   "id": "67b899a5-c87b-4565-bb16-013563fe8674",
   "metadata": {},
   "outputs": [],
   "source": [
    "# Callbacks\n",
    "early_stopping = EarlyStopping(monitor='val_loss', min_delta=0.0001, patience=20, restore_best_weights=True, verbose=1)\n",
    "\n",
    "model_checkpoint = ModelCheckpoint(\n",
    "    filepath='./weights/best_model_Data2.keras', \n",
    "    monitor='val_loss', \n",
    "    save_best_only=True\n",
    ")\n",
    "\n",
    "reduce_lr = ReduceLROnPlateau(\n",
    "    monitor='val_loss', \n",
    "    factor=0.2, \n",
    "    patience=10, \n",
    "    min_lr=1e-7,\n",
    "    min_delta=0.0001\n",
    ")"
   ]
  },
  {
   "cell_type": "markdown",
   "id": "61f96d2a-7a2f-48e2-a6e8-6a77a9cce13f",
   "metadata": {},
   "source": [
    "ModelCheckpoint saves copies of the model at specific moments during training. For example, if the model achieves its lowest error rate (best performance) on a validation set, ModelCheckpoint will save the model at that point.\n",
    "\n",
    "💡 Imagine you’re writing a long document. As you write, you might hit \"save\" whenever you make significant progress or reach an important point. This way, if your computer crashes, you don't lose all your work; you can start again from the last saved version. Also, if you make changes later that you don’t like, you can go back to a previous version where the document was better.\n",
    "\n",
    "<li> filepath: Specifies the file path where the model will be saved.\n",
    "<li> monitor: Determines which metric to monitor to decide when to save the model.\n",
    "<li> save_best_only: Controls whether the model is saved only when there is an improvement."
   ]
  },
  {
   "cell_type": "code",
   "execution_count": 15,
   "id": "a6d9f0b7-ca1a-4dc5-9a32-a56744eda5cd",
   "metadata": {},
   "outputs": [],
   "source": [
    "# Create a custom callback to update the plot\n",
    "class PlotLearning(keras.callbacks.Callback):\n",
    "    def on_train_begin(self, logs={}):\n",
    "        self.metrics = {}\n",
    "        for metric in logs:\n",
    "            self.metrics[metric] = []\n",
    "        \n",
    "    def on_epoch_end(self, epoch, logs={}):\n",
    "        # Store metrics\n",
    "        for metric in logs:\n",
    "            if metric in self.metrics:\n",
    "                self.metrics[metric].append(logs.get(metric))\n",
    "            else:\n",
    "                self.metrics[metric] = [logs.get(metric)]\n",
    "        \n",
    "        # Clear the output and redraw the plot\n",
    "        clear_output(wait=True)\n",
    "        plt.figure(figsize=(12, 4))\n",
    "        plt.plot(self.metrics['loss'], label='Training Loss')\n",
    "        if 'val_loss' in self.metrics:\n",
    "            plt.plot(self.metrics['val_loss'], label='Validation Loss')\n",
    "        plt.title('Model Loss')\n",
    "        plt.xlabel('Epoch')\n",
    "        plt.ylabel('Loss')\n",
    "        plt.legend()\n",
    "        plt.show()"
   ]
  },
  {
   "cell_type": "markdown",
   "id": "cdc74171-e4d8-4346-8ff8-13e1f7d8dddb",
   "metadata": {},
   "source": [
    "## 2.4 Let's go!"
   ]
  },
  {
   "cell_type": "code",
   "execution_count": 16,
   "id": "3548476c-ce7b-4e4e-ba87-aa34a10ff0f6",
   "metadata": {},
   "outputs": [
    {
     "data": {
      "image/png": "[encoded data removed]",
      "text/plain": [
       "<Figure size 1200x400 with 1 Axes>"
      ]
     },
     "metadata": {},
     "output_type": "display_data"
    },
    {
     "name": "stdout",
     "output_type": "stream",
     "text": [
      "\u001b[1m85/85\u001b[0m \u001b[32m━━━━━━━━━━━━━━━━━━━━\u001b[0m\u001b[37m\u001b[0m \u001b[1m4s\u001b[0m 49ms/step - accuracy: 1.0000 - loss: 0.2026 - val_accuracy: 0.7073 - val_loss: 0.6059 - learning_rate: 4.0000e-07\n",
      "Epoch 138: early stopping\n",
      "Restoring model weights from the end of the best epoch: 118.\n"
     ]
    }
   ],
   "source": [
    "# Train the model\n",
    "history = model.fit(\n",
    "    train_ds,\n",
    "    epochs=epochs,\n",
    "    validation_data=val_ds,\n",
    "    callbacks=[PlotLearning(), model_checkpoint, early_stopping, reduce_lr])"
   ]
  },
  {
   "cell_type": "code",
   "execution_count": null,
   "id": "1eeb41e2-03c7-48d7-85c8-afaf878b9b5b",
   "metadata": {},
   "outputs": [],
   "source": []
  }
 ],
 "metadata": {
  "kernelspec": {
   "display_name": "Datathon24",
   "language": "python",
   "name": "datathon24"
  },
  "language_info": {
   "codemirror_mode": {
    "name": "ipython",
    "version": 3
   },
   "file_extension": ".py",
   "mimetype": "text/x-python",
   "name": "python",
   "nbconvert_exporter": "python",
   "pygments_lexer": "ipython3",
   "version": "3.10.14"
  }
 },
 "nbformat": 4,
 "nbformat_minor": 5
}
